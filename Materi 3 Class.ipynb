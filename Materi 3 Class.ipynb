{
 "cells": [
  {
   "cell_type": "code",
   "execution_count": null,
   "metadata": {},
   "outputs": [],
   "source": [
    "pertemuan 3 > 5 - Maret - 2019\n",
    "Materi \"CLASS\" Dosen : Dr. Indah Agustien Siradjudsin. S.Kom.,M.Kom\n",
    "    \n",
    "    A. Class\n",
    "    Class adalah salah satu cara bagaimana kita membuat sebuah kode yang mempunyai behaviour tertentu \n",
    "    dan lebih mudah dalam mengorganisasi berbagai fungsi dan state-nya. Dalam sebuah class \n",
    "    kamu dapat menyimpan sebuah state tanpa harus membuat banyak state bila tidak menggunakan class.\n",
    "    \n",
    "    B. Contoh Program\n",
    "    "
   ]
  },
  {
   "cell_type": "code",
   "execution_count": null,
   "metadata": {},
   "outputs": [],
   "source": [
    "#override method\n",
    "class BilanganKompleks :\n",
    "    def __init__(self,a,b) :\n",
    "        self.real = a\n",
    "        self.im = b\n",
    "    def display(self) :\n",
    "        print(self.real,'+',self.im,'i')\n",
    "    def display2(self):\n",
    "        temp = str(self.real)+'+'+str(self.im)+'i'\n",
    "        return(temp)\n",
    "    def __str__(self):\n",
    "        return str(self.real)+'+'+str(self.im)+'i'\n",
    "    def addNum (self, num1, num2):\n",
    "        self.real = num1.real+num2.real\n",
    "        self.im = num1.im+num2.im\n",
    "    def addNum(self,num):\n",
    "        self.real = num.real+num.real\n",
    "        self.im = num.im+num.im\n",
    "    def __add__(self,obj):\n",
    "        a = self.real + self.obj\n",
    "        b = self.im + self.im\n",
    "        return BilanganKompleks(a,b)\n",
    "    def __mul__(self,data):"
   ]
  },
  {
   "cell_type": "code",
   "execution_count": null,
   "metadata": {},
   "outputs": [],
   "source": [
    "data1 = BilanganKompleks(4,6)\n",
    "data2= BilanganKompleks(2,5)\n",
    "print(data1)\n",
    "data3 = BilanganKompleks(0,0)\n",
    "data3.addNum(data1,data2)\n",
    "print(data3)\n",
    "data1.addNum(data1,data2)\n",
    "print(data1)"
   ]
  }
 ],
 "metadata": {
  "kernelspec": {
   "display_name": "Python 3",
   "language": "python",
   "name": "python3"
  },
  "language_info": {
   "codemirror_mode": {
    "name": "ipython",
    "version": 3
   },
   "file_extension": ".py",
   "mimetype": "text/x-python",
   "name": "python",
   "nbconvert_exporter": "python",
   "pygments_lexer": "ipython3",
   "version": "3.7.1"
  }
 },
 "nbformat": 4,
 "nbformat_minor": 2
}
