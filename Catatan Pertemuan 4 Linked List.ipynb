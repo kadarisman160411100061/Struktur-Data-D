{
 "cells": [
  {
   "cell_type": "code",
   "execution_count": null,
   "metadata": {},
   "outputs": [],
   "source": [
    "pertemuan 4 >  8 - Maret - 2019\n",
    "Materi \"LINKED LIST\" Dosen : Dr. Indah Agustien Siradjudsin. S.Kom.,M.Kom\n",
    "    A. Linked List\n",
    "    Pengertian Linked List\n",
    "\n",
    "Linked List adalah suatu struktur data linier. Berbeda dengan array yang juga merupakan struktur data linier dan tipe data komposit, \n",
    "linked list dibentuk secara dinamik. Pada saat awal program dijalankan elemen linked list belum data. \n",
    "Elemen linked list (disebut node) dibentuk sambil jalan sesuai instruksi. \n",
    "Apabila setiap elemen array dapat diakses secara langsung dengan menggunakan indeks, \n",
    "sebuah node linked list diakses dengan menggunakan pointer yang mengacu (menunjuk) ke node tersebut.\n",
    "    \n",
    "    B. Ilustasi\n",
    "    https://informatika11d.files.wordpress.com/2012/11/linked-list.png\n",
    "    \n",
    "    C. Class Node \n",
    "    class Node:\n",
    "    def __init__(self,init_data):\n",
    "        self.data = init_data\n",
    "        self.next = None\n",
    "    def getData(self):\n",
    "        return self.data\n",
    "    def getNext(self):\n",
    "        return self.next\n",
    "    def setData(self,new_data):\n",
    "        self.data = new_data\n",
    "    def setNext(self,next_data):\n",
    "        self.next = next_data\n",
    "        \n",
    "        C. Contoh Program "
   ]
  },
  {
   "cell_type": "code",
   "execution_count": null,
   "metadata": {},
   "outputs": [],
   "source": [
    "class Node:\n",
    "    def __init__(self,init_data):\n",
    "        self.data = init_data\n",
    "        self.next = None\n",
    "    def getData(self):\n",
    "        return self.data\n",
    "    def getNext(self):\n",
    "        return self.next\n",
    "    def setData(self,new_data):\n",
    "        self.data = new_data\n",
    "    def setNext(self,next_data):\n",
    "        self.next = next_data\n",
    "        \n",
    "class Linkedlist:\n",
    "    def __init__(self):\n",
    "        self.head = None\n",
    "    def isEmpty (self):\n",
    "        return self.head==None\n",
    "    def add (self, item):\n",
    "        temp = Node(item)\n",
    "        temp.setNext(self.head)\n",
    "        self.head = temp\n",
    "    def size (self):\n",
    "        current = self.head\n",
    "        count = 0\n",
    "        while current != None:\n",
    "            count = count + 1\n",
    "            current = current.getNext()\n",
    "        return count\n",
    "    def search(self,item):\n",
    "        current=self.head\n",
    "        found=False\n",
    "        while current != None and not found:\n",
    "            if current.getData() == item:\n",
    "                found=True\n",
    "            else:\n",
    "                current=current.getNext()\n",
    "        return found"
   ]
  },
  {
   "cell_type": "code",
   "execution_count": null,
   "metadata": {},
   "outputs": [],
   "source": [
    "mylist = Linkedlist()\n",
    "mylist.add(21)\n",
    "mylist.add(22)\n",
    "mylist.add(23)\n",
    "print(mylist.size())\n",
    "print(mylist.search(23))"
   ]
  }
 ],
 "metadata": {
  "kernelspec": {
   "display_name": "Python 3",
   "language": "python",
   "name": "python3"
  },
  "language_info": {
   "codemirror_mode": {
    "name": "ipython",
    "version": 3
   },
   "file_extension": ".py",
   "mimetype": "text/x-python",
   "name": "python",
   "nbconvert_exporter": "python",
   "pygments_lexer": "ipython3",
   "version": "3.7.1"
  }
 },
 "nbformat": 4,
 "nbformat_minor": 2
}
